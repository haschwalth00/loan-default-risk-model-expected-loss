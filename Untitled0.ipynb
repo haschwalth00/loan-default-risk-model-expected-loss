{
  "nbformat": 4,
  "nbformat_minor": 0,
  "metadata": {
    "colab": {
      "provenance": []
    },
    "kernelspec": {
      "name": "python3",
      "display_name": "Python 3"
    },
    "language_info": {
      "name": "python"
    }
  },
  "cells": [
    {
      "cell_type": "code",
      "execution_count": 4,
      "metadata": {
        "colab": {
          "base_uri": "https://localhost:8080/"
        },
        "id": "IbAgEzvLlTKT",
        "outputId": "e696bffb-b3ac-4e61-984b-fb9818fa91e8"
      },
      "outputs": [
        {
          "output_type": "stream",
          "name": "stdout",
          "text": [
            "Prediction: {'probability_of_default': 0.0001, 'expected_loss': 0.45}\n"
          ]
        }
      ],
      "source": [
        "\n",
        "import pandas as pd\n",
        "import numpy as np\n",
        "from sklearn.model_selection import train_test_split\n",
        "from sklearn.linear_model import LogisticRegression\n",
        "from sklearn.tree import DecisionTreeClassifier\n",
        "from sklearn.metrics import roc_auc_score, accuracy_score\n",
        "from scipy.interpolate import interp1d\n",
        "from datetime import datetime\n",
        "\n",
        "# Load loan data\n",
        "loan_data = pd.read_csv('ref data.csv')\n",
        "\n",
        "# Prepare features and labels\n",
        "X = loan_data.drop(columns=['customer_id', 'default'])\n",
        "y = loan_data['default']\n",
        "\n",
        "# Train-test split\n",
        "X_train, X_test, y_train, y_test = train_test_split(X, y, test_size=0.2, random_state=42)\n",
        "\n",
        "# Train Logistic Regression Model\n",
        "log_reg = LogisticRegression(max_iter=1000)\n",
        "log_reg.fit(X_train, y_train)\n",
        "\n",
        "# Train Decision Tree Model\n",
        "tree = DecisionTreeClassifier(max_depth=5, random_state=42)\n",
        "tree.fit(X_train, y_train)\n",
        "\n",
        "# Recovery rate (assumed)\n",
        "LGD = 0.9\n",
        "\n",
        "# Prediction function\n",
        "def predict_expected_loss(borrower_features, model='logistic'):\n",
        "    \"\"\"\n",
        "    borrower_features: dict with keys matching feature names:\n",
        "        'credit_lines_outstanding', 'loan_amt_outstanding', 'total_debt_outstanding',\n",
        "        'income', 'years_employed', 'fico_score'\n",
        "\n",
        "    model: 'logistic' or 'tree' (which model to use)\n",
        "    \"\"\"\n",
        "    input_df = pd.DataFrame([borrower_features])\n",
        "\n",
        "    if model == 'logistic':\n",
        "        pd_pred = log_reg.predict_proba(input_df)[0, 1]\n",
        "    elif model == 'tree':\n",
        "        pd_pred = tree.predict_proba(input_df)[0, 1]\n",
        "    else:\n",
        "        raise ValueError(\"Model must be either 'logistic' or 'tree'.\")\n",
        "\n",
        "    expected_loss = pd_pred * LGD * borrower_features['loan_amt_outstanding']\n",
        "\n",
        "    return {\n",
        "    'probability_of_default': float(round(pd_pred, 4)),\n",
        "    'expected_loss': float(round(expected_loss, 2))\n",
        "    }\n",
        "\n",
        "\n",
        "# Example usage\n",
        "if __name__ == \"__main__\":\n",
        "    example_borrower = {\n",
        "        'credit_lines_outstanding': 3,\n",
        "        'loan_amt_outstanding': 5000,\n",
        "        'total_debt_outstanding': 10000,\n",
        "        'income': 60000,\n",
        "        'years_employed': 5,\n",
        "        'fico_score': 700\n",
        "    }\n",
        "\n",
        "    prediction = predict_expected_loss(example_borrower, model='logistic')\n",
        "    print(f\"Prediction: {prediction}\")"
      ]
    }
  ]
}